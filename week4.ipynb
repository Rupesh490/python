{
 "cells": [
  {
   "cell_type": "code",
   "execution_count": 1,
   "id": "73455194-d5e7-4234-8483-cbe8fb1713ba",
   "metadata": {},
   "outputs": [
    {
     "name": "stdout",
     "output_type": "stream",
     "text": [
      "0     18\n",
      "1     40\n",
      "2     17\n",
      "3     22\n",
      "4     19\n",
      "5    313\n",
      "dtype: int64\n"
     ]
    }
   ],
   "source": [
    "import pandas as pd\n",
    "data = [18,40,17,22,19,313]\n",
    "series = pd.Series(data)\n",
    "print(series)\n"
   ]
  },
  {
   "cell_type": "code",
   "execution_count": 2,
   "id": "aeb6a16a-db75-41c6-860e-9a5704d86a5a",
   "metadata": {},
   "outputs": [
    {
     "name": "stdout",
     "output_type": "stream",
     "text": [
      "[19, 57, 3, 31, 7, 1]\n",
      "<class 'list'>\n"
     ]
    }
   ],
   "source": [
    "import pandas as pd\n",
    "data = [19,57,3,31,7,1]\n",
    "series = pd.Series(data)\n",
    "list_data = series.tolist()\n",
    "print(list_data)\n",
    "print(type(list_data))\n"
   ]
  },
  {
   "cell_type": "code",
   "execution_count": 5,
   "id": "21187249-2bce-4750-a982-18142ce844aa",
   "metadata": {},
   "outputs": [
    {
     "name": "stdout",
     "output_type": "stream",
     "text": [
      "        name  score  attempts qualify\n",
      "a  Anastasia   12.5         1     yes\n",
      "b       Dima    9.0         3      no\n",
      "c  Katherine   16.5         2     yes\n",
      "d      James    NaN         3      no\n",
      "e      Emily    9.0         2      no\n",
      "f    Michael   20.0         3     yes\n",
      "g    Matthew   14.5         1     yes\n",
      "h      Laura    NaN         1      no\n",
      "i      Kevin    8.0         2      no\n",
      "j      Jonas   19.0         1     yes\n"
     ]
    }
   ],
   "source": [
    "import pandas as pd\n",
    "import numpy as np\n",
    "exam_data = {'name':\n",
    "['Anastasia','Dima','Katherine','James','Emily','Michael','Matthew','Laura','Kevin','Jonas'],\n",
    "'score':[12.5,9,16.5,np.nan,9,20,14.5,np.nan,8,19],\n",
    "'attempts':[1,3,2,3,2,3,1,1,2,1],\n",
    "'qualify':['yes','no','yes','no','no','yes','yes','no','no','yes']}\n",
    "labels = ['a','b','c','d','e','f','g','h','i','j']\n",
    "df = pd.DataFrame(exam_data,index=labels)\n",
    "print(df)\n",
    "\n",
    "\n"
   ]
  },
  {
   "cell_type": "code",
   "execution_count": 12,
   "id": "c942f112-fb56-4283-b130-9e3a6b433abd",
   "metadata": {},
   "outputs": [
    {
     "name": "stdout",
     "output_type": "stream",
     "text": [
      "        name  score  attempts qualify\n",
      "a  Anastasia   12.5         1     yes\n",
      "b       Dima    9.0         3      no\n",
      "c  Katherine   16.5         2     yes\n",
      "d      James    NaN         3      no\n",
      "e      Emily    9.0         2      no\n",
      "f    Michael   20.0         3     yes\n",
      "g    Matthew   14.5         1     yes\n",
      "h      Laura    NaN         1      no\n",
      "i      Kevin    8.0         2      no\n",
      "j      Jonas   19.0         1     yes\n",
      "\n",
      "DataFrame  changing 'James' to 'Suresh':\n",
      "\n",
      "        name  score  attempts qualify\n",
      "a  Anastasia   12.5         1     yes\n",
      "b       Dima    9.0         3      no\n",
      "c  Katherine   16.5         2     yes\n",
      "d     Suresh    NaN         3      no\n",
      "e      Emily    9.0         2      no\n",
      "f    Michael   20.0         3     yes\n",
      "g    Matthew   14.5         1     yes\n",
      "h      Laura    NaN         1      no\n",
      "i      Kevin    8.0         2      no\n",
      "j      Jonas   19.0         1     yes\n"
     ]
    }
   ],
   "source": [
    "import pandas as pd\n",
    "import numpy as np\n",
    "exam_data = {'name':\n",
    "['Anastasia','Dima','Katherine','James','Emily','Michael','Matthew','Laura','Kevin','Jonas'],\n",
    "'score':[12.5,9,16.5,np.nan,9,20,14.5,np.nan,8,19],\n",
    "'attempts':[1,3,2,3,2,3,1,1,2,1],\n",
    "'qualify':['yes','no','yes','no','no','yes','yes','no','no','yes']}\n",
    "labels = ['a','b','c','d','e','f','g','h','i','j']\n",
    "df = pd.DataFrame(exam_data,index=labels)\n",
    "print(df)\n",
    "df.loc[df['name'] == 'James', 'name'] = 'Suresh'\n",
    "# Display updated DataFrame\n",
    "print(\"\\nDataFrame  changing 'James' to 'Suresh':\\n\")\n",
    "print(df)"
   ]
  },
  {
   "cell_type": "code",
   "execution_count": 11,
   "id": "38b4ea41-4f2f-4326-aac9-feb492a89275",
   "metadata": {},
   "outputs": [
    {
     "name": "stdout",
     "output_type": "stream",
     "text": [
      "        name  score  attempts qualify\n",
      "a  Anastasia   12.5         1     yes\n",
      "b       Dima    9.0         3      no\n",
      "c  Katherine   16.5         2     yes\n",
      "d      James    NaN         3      no\n",
      "e      Emily    9.0         2      no\n",
      "f    Michael   20.0         3     yes\n",
      "g    Matthew   14.5         1     yes\n",
      "h      Laura    NaN         1      no\n",
      "i      Kevin    8.0         2      no\n",
      "j      Jonas   19.0         1     yes\n",
      "\n",
      "After adding column grade\n",
      "\n",
      "        name  score  attempts qualify grade\n",
      "a  Anastasia   12.5         1     yes     A\n",
      "b       Dima    9.0         3      no     B\n",
      "c  Katherine   16.5         2     yes     A\n",
      "d      James    NaN         3      no     C\n",
      "e      Emily    9.0         2      no     B\n",
      "f    Michael   20.0         3     yes     A\n",
      "g    Matthew   14.5         1     yes     B\n",
      "h      Laura    NaN         1      no     C\n",
      "i      Kevin    8.0         2      no     C\n",
      "j      Jonas   19.0         1     yes     A\n"
     ]
    }
   ],
   "source": [
    "import pandas as pd\n",
    "import numpy as np\n",
    "exam_data = {'name':\n",
    "['Anastasia','Dima','Katherine','James','Emily','Michael','Matthew','Laura','Kevin','Jonas'],\n",
    "'score':[12.5,9,16.5,np.nan,9,20,14.5,np.nan,8,19],\n",
    "'attempts':[1,3,2,3,2,3,1,1,2,1],\n",
    "'qualify':['yes','no','yes','no','no','yes','yes','no','no','yes']}\n",
    "labels = ['a','b','c','d','e','f','g','h','i','j']\n",
    "df = pd.DataFrame(exam_data,index=labels)\n",
    "print(df)\n",
    "\n",
    "print (\"\\nAfter adding column grade\\n\")\n",
    "df['grade'] = ['A','B','A','C','B','A','B','C','C','A']\n",
    "print(df)\n"
   ]
  },
  {
   "cell_type": "code",
   "execution_count": 7,
   "id": "392ed687-19b8-4563-bcd7-962014541305",
   "metadata": {},
   "outputs": [
    {
     "name": "stdout",
     "output_type": "stream",
     "text": [
      "['name', 'score', 'attempts', 'qualify', 'grade']\n"
     ]
    }
   ],
   "source": [
    "columns_list = list(df.columns)\n",
    "print(columns_list)\n"
   ]
  },
  {
   "cell_type": "code",
   "execution_count": null,
   "id": "33a181f3-3a3f-4eab-8e40-9390fc1a1671",
   "metadata": {},
   "outputs": [],
   "source": []
  }
 ],
 "metadata": {
  "kernelspec": {
   "display_name": "anaconda-2024.02-py310",
   "language": "python",
   "name": "conda-env-anaconda-2024.02-py310-py"
  },
  "language_info": {
   "codemirror_mode": {
    "name": "ipython",
    "version": 3
   },
   "file_extension": ".py",
   "mimetype": "text/x-python",
   "name": "python",
   "nbconvert_exporter": "python",
   "pygments_lexer": "ipython3",
   "version": "3.10.14"
  }
 },
 "nbformat": 4,
 "nbformat_minor": 5
}
