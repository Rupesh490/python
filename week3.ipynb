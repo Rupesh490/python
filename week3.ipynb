{
 "cells": [
  {
   "cell_type": "code",
   "execution_count": 1,
   "id": "02e157a0-cdef-4cd8-b6dd-7a9cf29ad274",
   "metadata": {},
   "outputs": [
    {
     "name": "stdout",
     "output_type": "stream",
     "text": [
      "\n",
      " all elements are non- zeros: True\n"
     ]
    }
   ],
   "source": [
    "#exp2#\n",
    "import numpy as np\n",
    "arr = np.array([1,2,3,4])\n",
    "print(\"\\n all elements are non- zeros:\",np.all(arr))"
   ]
  },
  {
   "cell_type": "code",
   "execution_count": 2,
   "id": "36dafa66-2235-418e-84a2-4dc3ba33a12b",
   "metadata": {},
   "outputs": [
    {
     "data": {
      "text/plain": [
       "np.int64(3)"
      ]
     },
     "execution_count": 2,
     "metadata": {},
     "output_type": "execute_result"
    }
   ],
   "source": [
    "#exp1#\n",
    "\n",
    "import numpy as np\n",
    "np.add(1,2)"
   ]
  },
  {
   "cell_type": "code",
   "execution_count": 4,
   "id": "6ba89435-2b04-478b-af14-b9da3cbcd764",
   "metadata": {},
   "outputs": [
    {
     "name": "stdout",
     "output_type": "stream",
     "text": [
      "\n",
      "na>b: [False False  True]\n"
     ]
    }
   ],
   "source": [
    "#exp3#\n",
    "import numpy as np\n",
    "a = np.array([1,2,3])\n",
    "b = np.array([3,2,1])\n",
    "print(\"\\nna>b:\",np.greater(a,b))\n"
   ]
  },
  {
   "cell_type": "code",
   "execution_count": 6,
   "id": "09b33fc4-928b-49b7-a57e-d2edb701288e",
   "metadata": {},
   "outputs": [
    {
     "name": "stdout",
     "output_type": "stream",
     "text": [
      "a>=b: [False  True  True]\n"
     ]
    }
   ],
   "source": [
    "#exp4#\n",
    "import numpy as np\n",
    "a = np.array([1,2,3])\n",
    "b = np.array([3,2,1])\n",
    "print(\"a>=b:\",np.greater_equal(a,b))\n",
    "      "
   ]
  },
  {
   "cell_type": "code",
   "execution_count": 7,
   "id": "8f1a1896-89d0-43f7-8670-4e98ada18554",
   "metadata": {},
   "outputs": [
    {
     "name": "stdout",
     "output_type": "stream",
     "text": [
      "a<b: [ True False False]\n"
     ]
    }
   ],
   "source": [
    "#wxp5#\n",
    "\n",
    "import numpy as np \n",
    "\n",
    "a = np.array([1,2,3])\n",
    "b = np.array([3,2,1])\n",
    "print(\"a<b:\",np.less(a,b))\n"
   ]
  },
  {
   "cell_type": "code",
   "execution_count": 9,
   "id": "9677d3c9-672f-476d-aec5-660267f359ed",
   "metadata": {},
   "outputs": [
    {
     "name": "stdout",
     "output_type": "stream",
     "text": [
      "a<=b: [ True  True False]\n"
     ]
    }
   ],
   "source": [
    "#exp6#\n",
    "import numpy as np\n",
    "\n",
    "a = np.array([1,2,3])\n",
    "b = np.array([3,2,1])\n",
    "\n",
    "print(\"a<=b:\",np.less_equal(a,b))"
   ]
  },
  {
   "cell_type": "code",
   "execution_count": 10,
   "id": "b1013995-1e4c-4fa1-96de-9e709629061c",
   "metadata": {},
   "outputs": [
    {
     "name": "stdout",
     "output_type": "stream",
     "text": [
      "a==b: [False  True False]\n"
     ]
    }
   ],
   "source": [
    "#exp7#\n",
    "import numpy as np\n",
    "a =np.array([1,2,3])\n",
    "b = np.array([3,2,1])\n",
    "print(\"a==b:\",np.equal(a,b))\n"
   ]
  },
  {
   "cell_type": "code",
   "execution_count": 11,
   "id": "ca0f82af-a819-45c4-ba39-ce35375e32de",
   "metadata": {},
   "outputs": [
    {
     "name": "stdout",
     "output_type": "stream",
     "text": [
      "a≈b(allclose): False\n"
     ]
    }
   ],
   "source": [
    "#exp8#\n",
    "import numpy as np\n",
    "a = np.array([1,2,3])\n",
    "b = np.array([3,2,1])\n",
    "print(\"a≈b(allclose):\",np.allclose(a,b))"
   ]
  },
  {
   "cell_type": "code",
   "execution_count": 14,
   "id": "810b3d72-ce2c-4011-b2a3-77590d7b2e40",
   "metadata": {},
   "outputs": [
    {
     "name": "stdout",
     "output_type": "stream",
     "text": [
      "zero: [0. 0. 0.]\n"
     ]
    }
   ],
   "source": [
    "#exp9#\n",
    "import numpy as np\n",
    "a = np.array([1,2,3])\n",
    "b = np.array([3,2,1])\n",
    "print(\"zero:\",np.zeros(3))"
   ]
  },
  {
   "cell_type": "code",
   "execution_count": 16,
   "id": "ab6ef118-621b-4140-a794-89fcfe831191",
   "metadata": {},
   "outputs": [
    {
     "name": "stdout",
     "output_type": "stream",
     "text": [
      "ones: [1. 1. 1.]\n"
     ]
    }
   ],
   "source": [
    "#exp10#\n",
    "import numpy as np\n",
    "a = np.array([1,2,3])\n",
    "b = np.array([3,2,1])\n",
    "print(\"ones:\",np.ones(3))\n",
    "             "
   ]
  },
  {
   "cell_type": "code",
   "execution_count": 18,
   "id": "ae3289d8-a90e-46ad-b2fe-fe9f542341f7",
   "metadata": {},
   "outputs": [
    {
     "name": "stdout",
     "output_type": "stream",
     "text": [
      "linspace: [0.   0.25 0.5  0.75 1.  ]\n"
     ]
    }
   ],
   "source": [
    "#exp11#\n",
    "import numpy as np\n",
    "print(\"linspace:\",np.linspace(0,1,5))"
   ]
  },
  {
   "cell_type": "code",
   "execution_count": 19,
   "id": "f74938e5-c4e2-4fa6-8cd5-e1ad5784fd26",
   "metadata": {},
   "outputs": [
    {
     "name": "stdout",
     "output_type": "stream",
     "text": [
      "convert array to list: [1, 2, 3]\n"
     ]
    }
   ],
   "source": [
    "#exp12#\n",
    "import numpy as np\n",
    "print(\"convert array to list:\",a.tolist())"
   ]
  },
  {
   "cell_type": "code",
   "execution_count": 21,
   "id": "3d937fe1-7e45-4828-9b44-6052d12e7b43",
   "metadata": {},
   "outputs": [
    {
     "name": "stdout",
     "output_type": "stream",
     "text": [
      "lesthan 30: [10 20]\n",
      "greater 30: [40 50]\n"
     ]
    }
   ],
   "source": [
    "#exp13#\n",
    "import numpy as np\n",
    "arr = np.array([10,20,30,40,50])\n",
    "specified_number=30\n",
    "less_than = arr[arr<specified_number]\n",
    "greater_than = arr[arr>specified_number]\n",
    "print(\"lesthan 30:\",less_than)\n",
    "print(\"greater 30:\",greater_than)\n",
    "               "
   ]
  },
  {
   "cell_type": "code",
   "execution_count": 23,
   "id": "a5f673f5-c445-4ba4-ab7d-fa309c3cba02",
   "metadata": {},
   "outputs": [
    {
     "name": "stdout",
     "output_type": "stream",
     "text": [
      "max: 80\n",
      "min: 10\n",
      "argument max: 3\n",
      "argument min: 0\n",
      "argument alone axis 0: [1 0 1]\n",
      "argument alone axis 1: [1 0]\n"
     ]
    }
   ],
   "source": [
    "#exp14#\n",
    "import numpy as np\n",
    "arr2d = np.array([[10,60,30],[80,20,50]])\n",
    "print(\"max:\",np.max(arr2d))\n",
    "print(\"min:\",np.min(arr2d))\n",
    "print(\"argument max:\",np.argmax(arr2d))\n",
    "print(\"argument min:\",np.argmin(arr2d))\n",
    "print(\"argument alone axis 0:\",np.argmax(arr2d,axis = 0))\n",
    "print(\"argument alone axis 1:\",np.argmax(arr2d,axis = 1))"
   ]
  },
  {
   "cell_type": "code",
   "execution_count": 25,
   "id": "d37b8073-eb14-4f40-b601-02eb2075cc9f",
   "metadata": {},
   "outputs": [
    {
     "name": "stdout",
     "output_type": "stream",
     "text": [
      "repr: array([1, 2, 1, 3, 2, 1, 4])\n",
      "bincount: [0 3 2 1 1]\n",
      "unique value: [1 2 3 4]\n"
     ]
    }
   ],
   "source": [
    "#exp15#\n",
    "import numpy as np\n",
    "a = np.array([1,2,1,3,2,1,4])\n",
    "print(\"repr:\",repr(a))\n",
    "print(\"bincount:\",np.bincount(a))\n",
    "print(\"unique value:\",np.unique(a))"
   ]
  },
  {
   "cell_type": "code",
   "execution_count": null,
   "id": "68dbbd1f-d9a7-41e8-a26f-fc96ea6ca458",
   "metadata": {},
   "outputs": [],
   "source": []
  }
 ],
 "metadata": {
  "kernelspec": {
   "display_name": "Python 3 (ipykernel)",
   "language": "python",
   "name": "python3"
  },
  "language_info": {
   "codemirror_mode": {
    "name": "ipython",
    "version": 3
   },
   "file_extension": ".py",
   "mimetype": "text/x-python",
   "name": "python",
   "nbconvert_exporter": "python",
   "pygments_lexer": "ipython3",
   "version": "3.13.5"
  }
 },
 "nbformat": 4,
 "nbformat_minor": 5
}
