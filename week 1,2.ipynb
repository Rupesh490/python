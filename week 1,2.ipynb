{
 "cells": [
  {
   "cell_type": "code",
   "execution_count": 1,
   "id": "b7b96941-7135-4a81-beab-2d801bd45ae2",
   "metadata": {},
   "outputs": [
    {
     "name": "stdout",
     "output_type": "stream",
     "text": [
      "Enter weight in kilograms:  5\n"
     ]
    },
    {
     "name": "stdout",
     "output_type": "stream",
     "text": [
      "5.0 kilograms is equal to 11.0 pounds.\n"
     ]
    }
   ],
   "source": [
    "# Step 1: Ask the user to enter the weight in kilograms\n",
    "kilograms = float(input(\"Enter weight in kilograms: \"))\n",
    "# Step 2: Convert kilograms to pounds\n",
    "pounds = kilograms * 2.2\n",
    "# Step 3: Display the result\n",
    "print(f\"{kilograms} kilograms is equal to {pounds} pounds.\")\n"
   ]
  },
  {
   "cell_type": "code",
   "execution_count": 2,
   "id": "14062ad0-c796-48f3-a011-533dbdd79ce6",
   "metadata": {},
   "outputs": [
    {
     "name": "stdout",
     "output_type": "stream",
     "text": [
      "8, 11, 14, 17, 20, 23, 26, 29, 32, 35, 38, 41, 44, 47, 50, 53, 56, 59, 62, 65, 68, 71, 74, 77, 80, 83, 86, 89, \n"
     ]
    }
   ],
   "source": [
    "for num in range(8, 90, 3):\n",
    "    print(num, end=', ')\n",
    "print()\n"
   ]
  },
  {
   "cell_type": "code",
   "execution_count": 3,
   "id": "da11f6fd-1720-46d9-a304-1c50aff53fd6",
   "metadata": {},
   "outputs": [
    {
     "name": "stdout",
     "output_type": "stream",
     "text": [
      "Array of characters: ['P', 'y', 't', 'h', 'o', 'n', ' ', 'P', 'r', 'o', 'g', 'r', 'a', 'm', 'm', 'i', 'n', 'g', ' ', 'i', 's', ' ', 'v', 'e', 'r', 'y', ' ', 'v', 'e', 'r', 'y', ' ', 'e', 'a', 's', 'y', '!']\n"
     ]
    }
   ],
   "source": [
    "input_string = \"Python Programming is very very easy!\"\n",
    "char_array = list(input_string)\n",
    "print(\"Array of characters:\", char_array) \n"
   ]
  },
  {
   "cell_type": "code",
   "execution_count": 4,
   "id": "6124115f-5365-4214-b1e9-f4154de78528",
   "metadata": {},
   "outputs": [
    {
     "name": "stdout",
     "output_type": "stream",
     "text": [
      "Enter list: 12,15,  17,19 , 20  \n"
     ]
    },
    {
     "name": "stdout",
     "output_type": "stream",
     "text": [
      "The largest number in the list is: 20\n"
     ]
    }
   ],
   "source": [
    "numbers = eval(input(\"Enter list:\"))\n",
    "largest = max(numbers)\n",
    "print(\"The largest number in the list is:\", largest)\n"
   ]
  },
  {
   "cell_type": "code",
   "execution_count": 6,
   "id": "948dfc6d-6161-44d8-ae0a-421f163455df",
   "metadata": {},
   "outputs": [
    {
     "name": "stdout",
     "output_type": "stream",
     "text": [
      "Enter the position (n) to find nth Fibonacci number:  5\n"
     ]
    },
    {
     "name": "stdout",
     "output_type": "stream",
     "text": [
      "The 5th Fibonacci number is: 3\n"
     ]
    }
   ],
   "source": [
    "def fibonacci(n):\n",
    "    if n <= 0:\n",
    "        return \"Invalid input\"\n",
    "    elif n == 1 or n == 2:\n",
    "        return n-1\n",
    "    else:\n",
    "        a, b = 0, 1\n",
    "        for _ in range(n - 2):\n",
    "            a, b = b, a + b\n",
    "        return b\n",
    "n = int(input(\"Enter the position (n) to find nth Fibonacci number: \"))\n",
    "print(f\"The {n}th Fibonacci number is:\", fibonacci(n))\n"
   ]
  },
  {
   "cell_type": "code",
   "execution_count": 9,
   "id": "e2f070af-db36-484c-a713-86cbf2ff83b5",
   "metadata": {},
   "outputs": [
    {
     "name": "stdout",
     "output_type": "stream",
     "text": [
      "The 2022 Toyota Camry is starting.\n",
      "The 2032 Toyota Camry is stopping.\n"
     ]
    }
   ],
   "source": [
    "class Car:\n",
    "    def __init__(self, make, model, year):   # constructor properly indented\n",
    "        self.make = make\n",
    "        self.model = model\n",
    "        self.year = year\n",
    "\n",
    "    def start(self):\n",
    "        print(f\"The {self.year} {self.make} {self.model} is starting.\")\n",
    "\n",
    "    def stop(self):\n",
    "        print(f\"The {self.year} {self.make} {self.model} is stopping.\")\n",
    "\n",
    "# Example usage\n",
    "car1 = Car(\"Toyota\", \"Camry\", 2022)\n",
    "car2 = Car(\"Toyota\", \"Camry\", 2032)\n",
    "\n",
    "car1.start()\n",
    "car2.stop()\n"
   ]
  },
  {
   "cell_type": "code",
   "execution_count": 11,
   "id": "96dce282-903e-496c-bca0-329e45e4463b",
   "metadata": {},
   "outputs": [
    {
     "name": "stdout",
     "output_type": "stream",
     "text": [
      "Buddy is eating.\n",
      "Buddy is barking.\n",
      "Whiskers is eating.\n",
      "Whiskers is meowing.\n"
     ]
    }
   ],
   "source": [
    "class Animal:\n",
    "    def __init__(self, name):\n",
    "        self.name = name\n",
    "    def eat(self):\n",
    "        print(f\"{self.name} is eating.\")\n",
    "class Dog(Animal):\n",
    "    def bark(self):\n",
    "        print(f\"{self.name} is barking.\")\n",
    "class Cat(Animal):\n",
    "    def meow(self):\n",
    "        print(f\"{self.name} is meowing.\")\n",
    "# Example usage\n",
    "dog = Dog(\"Buddy\")\n",
    "cat = Cat(\"Whiskers\")\n",
    "dog.eat()\n",
    "dog.bark()\n",
    "cat.eat()\n",
    "cat.meow()\n"
   ]
  },
  {
   "cell_type": "code",
   "execution_count": 14,
   "id": "62e87eba-4126-413b-bdd2-00b3d446d163",
   "metadata": {},
   "outputs": [
    {
     "name": "stdout",
     "output_type": "stream",
     "text": [
      "Woof!\n",
      "Meow!\n",
      "Tweet!\n"
     ]
    }
   ],
   "source": [
    "\n",
    "class Animal:\n",
    "    def make_sound(self):\n",
    "        print(\"Some generic animal sound.\")\n",
    "\n",
    "class Dog(Animal):\n",
    "    def make_sound(self):\n",
    "        print(\"Woof!\")\n",
    "\n",
    "class Cat(Animal):\n",
    "    def make_sound(self):\n",
    "        print(\"Meow!\")\n",
    "\n",
    "class Bird(Animal):\n",
    "    def make_sound(self):\n",
    "        print(\"Tweet!\")\n",
    "\n",
    "# Polymorphic behavior\n",
    "animals = [Dog(), Cat(), Bird()]\n",
    "\n",
    "for animal in animals:   # ✅ corrected here\n",
    "    animal.make_sound()\n"
   ]
  },
  {
   "cell_type": "code",
   "execution_count": null,
   "id": "9276061f-619f-42f0-98ae-7979320b019a",
   "metadata": {},
   "outputs": [
    {
     "name": "stdout",
     "output_type": "stream",
     "text": [
      "Enter numerator:  5\n",
      "Enter denominator:  0\n"
     ]
    },
    {
     "name": "stdout",
     "output_type": "stream",
     "text": [
      "Error: Cannot divide by zero.\n"
     ]
    }
   ],
   "source": [
    "try:\n",
    "    numerator = int(input(\"Enter numerator: \"))\n",
    "    denominator = int(input(\"Enter denominator: \"))\n",
    "    result = numerator / denominator\n",
    "    print(f\"Result: {result}\")\n",
    "except ZeroDivisionError:\n",
    "    print(\"Error: Cannot divide by zero.\")\n",
    "except ValueError:\n",
    "    print(\"Error: Please enter valid integers.\")\n"
   ]
  },
  {
   "cell_type": "code",
   "execution_count": null,
   "id": "a5589e9a-2494-4dc3-ad0b-b7ce99828a9b",
   "metadata": {},
   "outputs": [],
   "source": []
  }
 ],
 "metadata": {
  "kernelspec": {
   "display_name": "Python 3 (ipykernel)",
   "language": "python",
   "name": "python3"
  },
  "language_info": {
   "codemirror_mode": {
    "name": "ipython",
    "version": 3
   },
   "file_extension": ".py",
   "mimetype": "text/x-python",
   "name": "python",
   "nbconvert_exporter": "python",
   "pygments_lexer": "ipython3",
   "version": "3.13.5"
  }
 },
 "nbformat": 4,
 "nbformat_minor": 5
}
